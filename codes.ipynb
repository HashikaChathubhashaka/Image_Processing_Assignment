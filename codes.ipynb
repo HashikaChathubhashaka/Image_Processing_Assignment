{
 "cells": [
  {
   "cell_type": "markdown",
   "metadata": {},
   "source": [
    "#Problem 01"
   ]
  },
  {
   "cell_type": "code",
   "execution_count": 7,
   "metadata": {},
   "outputs": [
    {
     "name": "stdout",
     "output_type": "stream",
     "text": [
      "101\n",
      "50\n",
      "105\n"
     ]
    }
   ],
   "source": [
    "%matplotlib inline\n",
    "import numpy as np\n",
    "import cv2 as cv\n",
    "import matplotlib.pyplot as plt\n",
    "\n",
    "c = np.array([(100,50),(150,200)])\n",
    "t1=np.linspace(0,c[0,1],c[0,0]+1-0).astype(\"uint8\")\n",
    "print (len(t1))\n",
    "\n",
    "t2=np.linspace(c[0,1]+1,c[1,1],c[1,0]-c[0,0]).astype(\"uint8\")\n",
    "print(len(t2))\n",
    "\n",
    "t3=np.linspace(c[1,1]+1,255,255-c[1,0]).astype(\"uint8\")\n",
    "print(len(t3))"
   ]
  }
 ],
 "metadata": {
  "kernelspec": {
   "display_name": "Python 3",
   "language": "python",
   "name": "python3"
  },
  "language_info": {
   "codemirror_mode": {
    "name": "ipython",
    "version": 3
   },
   "file_extension": ".py",
   "mimetype": "text/x-python",
   "name": "python",
   "nbconvert_exporter": "python",
   "pygments_lexer": "ipython3",
   "version": "3.8.1"
  },
  "orig_nbformat": 4
 },
 "nbformat": 4,
 "nbformat_minor": 2
}
