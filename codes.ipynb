{
 "cells": [
  {
   "cell_type": "markdown",
   "metadata": {},
   "source": [
    "#Problem 01"
   ]
  },
  {
   "cell_type": "code",
   "execution_count": 9,
   "metadata": {},
   "outputs": [
    {
     "name": "stdout",
     "output_type": "stream",
     "text": [
      "51\n",
      "0\n",
      "100\n",
      "256\n"
     ]
    },
    {
     "data": {
      "image/png": "[encoded data removed]",
      "text/plain": [
       "<Figure size 432x288 with 1 Axes>"
      ]
     },
     "metadata": {
      "needs_background": "light"
     },
     "output_type": "display_data"
    }
   ],
   "source": [
    "%matplotlib inline\n",
    "import numpy as np\n",
    "import cv2 as cv\n",
    "import matplotlib.pyplot as plt\n",
    "\n",
    "c = np.array([(50,100),(150,254)])\n",
    "\n",
    "\n",
    "t1=np.linspace(0,c[0,0],c[0,0]+1-0).astype(\"uint8\")\n",
    "print (len(t1))\n",
    "\n",
    "t2=np.linspace(c[0,0],c[0,1],0).astype(\"uint8\")\n",
    "print(len(t2))\n",
    "\n",
    "t3=np.linspace(c[0,1]+1,c[1,1],c[1,0]-c[0,0]).astype(\"uint8\")\n",
    "print(len(t3))\n",
    "\n",
    "t4=np.linspace(c[1,1]-1,c[1,0],0).astype(\"uint8\")\n",
    "\n",
    "t5=np.linspace(c[1,0]+1,c[1,1],c[1,1]-c[1,0]+1).astype(\"uint8\")\n",
    "\n",
    "\n",
    "transform = np.concatenate((t1,t2),axis=0).astype(\"uint8\")\n",
    "transform =np.concatenate((transform,t3),axis=0).astype(\"uint8\")\n",
    "transform =np.concatenate((transform,t4),axis=0).astype(\"uint8\")\n",
    "transform =np.concatenate((transform,t5),axis=0).astype(\"uint8\")\n",
    "\n",
    "print(len(transform))\n",
    "fig,ax  = plt.subplots()\n",
    "\n",
    "ax.plot(transform)\n",
    "ax.set_xlabel(r'Input , $f(\\mathbf{x}$')\n",
    "ax.set_xlabel('Output , $f(\\mathrm{T}[f(\\mathbf{x})]$')\n",
    "\n",
    "ax.set_xlim(0,255)\n",
    "ax.set_ylim(0,255)\n",
    "\n",
    "ax.set_aspect(\"equal\") # To ensure the aspect ratio of x and y axis are equal\n",
    "\n",
    "original_image = cv.imread(\"emma.jpg\",cv.IMREAD_GRAYSCALE)\n",
    "cv.imshow(\"Image\",original_image)\n",
    "cv.waitKey(0)\n",
    "cv.destroyAllWindows()\n",
    "\n",
    "image_t = cv.LUT(original_image,transform)\n",
    "cv.imshow(\"Image\",image_t)\n",
    "cv.waitKey(0)\n",
    "cv.destroyAllWindows()\n",
    "\n",
    "\n",
    "\n"
   ]
  }
 ],
 "metadata": {
  "kernelspec": {
   "display_name": "Python 3",
   "language": "python",
   "name": "python3"
  },
  "language_info": {
   "codemirror_mode": {
    "name": "ipython",
    "version": 3
   },
   "file_extension": ".py",
   "mimetype": "text/x-python",
   "name": "python",
   "nbconvert_exporter": "python",
   "pygments_lexer": "ipython3",
   "version": "3.8.1"
  },
  "orig_nbformat": 4
 },
 "nbformat": 4,
 "nbformat_minor": 2
}
